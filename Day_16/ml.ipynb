{
 "cells": [
  {
   "attachments": {},
   "cell_type": "markdown",
   "metadata": {},
   "source": [
    "# Machine Learning(ML):\n",
    "\n",
    "Machine Learning(ML) is a field of inquiry devoted to understanding and building method that 'learn', that is, methods that leverage data to improve performance on some set of tasks."
   ]
  },
  {
   "attachments": {},
   "cell_type": "markdown",
   "metadata": {},
   "source": [
    "## Types of Machine Learning:\n",
    "\n",
    "1. Supervised Learning\n",
    "2. Unsupervised Learning\n",
    "3. Semi-Supervised Learning\n",
    "4. Reinforcement Learning"
   ]
  },
  {
   "attachments": {},
   "cell_type": "markdown",
   "metadata": {},
   "source": [
    "# 1. Supervised-Learning\n",
    "   \n",
    "Supervised learning involves training a model with labeled data, where the desired output is provided for each input. The model learns to predict the output based on the input features, and the accuracy of the model is evaluated on a separate set of labeled data."
   ]
  },
  {
   "attachments": {},
   "cell_type": "markdown",
   "metadata": {},
   "source": [
    "# 2. Unsupervised-Learning\n",
    "\n",
    "Unsupervised learning involves training a model with unlabeled data, where the goal is to identify patterns or structure in the data. Clustering and dimensionality reduction are common unsupervised learning techniques."
   ]
  },
  {
   "attachments": {},
   "cell_type": "markdown",
   "metadata": {},
   "source": [
    "# 3. Semi-Supervised Learning\n",
    "\n",
    "Semi-supervised learning is a type of machine learning that falls in between supervised and unsupervised learning. In semi-supervised learning, the model is trained on a combination of labeled and unlabeled data."
   ]
  },
  {
   "attachments": {},
   "cell_type": "markdown",
   "metadata": {},
   "source": [
    "# 4. Reinforcement Learning\n",
    "\n",
    "Reinforcement learning involves training a model to make decisions based on feedback received from its environment. The model learns through trial and error, receiving rewards for making correct decisions and punishments for making incorrect ones."
   ]
  },
  {
   "cell_type": "code",
   "execution_count": null,
   "metadata": {},
   "outputs": [],
   "source": []
  }
 ],
 "metadata": {
  "kernelspec": {
   "display_name": "Python 3",
   "language": "python",
   "name": "python3"
  },
  "language_info": {
   "codemirror_mode": {
    "name": "ipython",
    "version": 3
   },
   "file_extension": ".py",
   "mimetype": "text/x-python",
   "name": "python",
   "nbconvert_exporter": "python",
   "pygments_lexer": "ipython3",
   "version": "3.11.1"
  },
  "orig_nbformat": 4
 },
 "nbformat": 4,
 "nbformat_minor": 2
}
